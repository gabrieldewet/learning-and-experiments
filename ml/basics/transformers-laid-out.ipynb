{
 "cells": [
  {
   "cell_type": "markdown",
   "metadata": {},
   "source": [
    "# Transformers Laid Out\n",
    "\n",
    "\n",
    "[Source](https://goyalpramod.github.io/blogs/Transformers_laid_out/)"
   ]
  }
 ],
 "metadata": {
  "language_info": {
   "name": "python"
  }
 },
 "nbformat": 4,
 "nbformat_minor": 2
}
