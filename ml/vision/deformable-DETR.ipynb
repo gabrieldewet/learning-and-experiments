{
 "cells": [
  {
   "cell_type": "code",
   "execution_count": null,
   "metadata": {},
   "outputs": [],
   "source": [
    "import torch\n",
    "from datasets import load_dataset\n",
    "from PIL import Image\n",
    "from transformers import AutoImageProcessor, DeformableDetrForObjectDetection"
   ]
  },
  {
   "cell_type": "code",
   "execution_count": null,
   "metadata": {},
   "outputs": [],
   "source": [
    "processor = AutoImageProcessor.from_pretrained(\"./models/deformable-detr\")\n",
    "model = DeformableDetrForObjectDetection.from_pretrained(\"./models/deformable-detr\")\n",
    "# processor = AutoImageProcessor.from_pretrained(\"SenseTime/deformable-detr\")\n",
    "# model = DeformableDetrForObjectDetection.from_pretrained(\"SenseTime/deformable-detr\")"
   ]
  },
  {
   "cell_type": "code",
   "execution_count": null,
   "metadata": {},
   "outputs": [],
   "source": [
    "IMAGE_SIZE = 480"
   ]
  },
  {
   "cell_type": "code",
   "execution_count": null,
   "metadata": {},
   "outputs": [],
   "source": [
    "cppe5 = load_dataset(\"cppe-5\")\n",
    "\n",
    "if \"validation\" not in cppe5:\n",
    "    split = cppe5[\"train\"].train_test_split(0.15, seed=1337)\n",
    "    cppe5[\"train\"] = split[\"train\"]\n",
    "    cppe5[\"validation\"] = split[\"test\"]\n",
    "\n",
    "cppe5"
   ]
  },
  {
   "cell_type": "code",
   "execution_count": null,
   "metadata": {},
   "outputs": [],
   "source": [
    "def save_split(split: dict):\n",
    "    for img in split:\n",
    "        # Save img\n",
    "        img[\"image\"].save(f\"./data/cppe5/images/{img['image_id']}.png\")\n",
    "        break"
   ]
  },
  {
   "cell_type": "code",
   "execution_count": null,
   "metadata": {},
   "outputs": [],
   "source": [
    "for split in [\"train\", \"test\", \"validation\"]:\n",
    "    save_split(cppe5[split])"
   ]
  },
  {
   "cell_type": "code",
   "execution_count": null,
   "metadata": {},
   "outputs": [],
   "source": [
    "for img in cppe5[\"train\"]:\n",
    "    for key, value in img.items():\n",
    "        print(key, value)\n",
    "    break"
   ]
  },
  {
   "cell_type": "code",
   "execution_count": null,
   "metadata": {},
   "outputs": [],
   "source": []
  }
 ],
 "metadata": {
  "kernelspec": {
   "display_name": ".venv",
   "language": "python",
   "name": "python3"
  },
  "language_info": {
   "codemirror_mode": {
    "name": "ipython",
    "version": 3
   },
   "file_extension": ".py",
   "mimetype": "text/x-python",
   "name": "python",
   "nbconvert_exporter": "python",
   "pygments_lexer": "ipython3",
   "version": "3.12.8"
  }
 },
 "nbformat": 4,
 "nbformat_minor": 2
}
