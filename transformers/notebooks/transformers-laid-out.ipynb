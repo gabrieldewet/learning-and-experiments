{
 "cells": [
  {
   "cell_type": "markdown",
   "metadata": {},
   "source": [
    "# Transformers Laid Out\n",
    "\n",
    "\n",
    "[Source](https://goyalpramod.github.io/blogs/Transformers_laid_out/)"
   ]
  },
  {
   "cell_type": "markdown",
   "metadata": {},
   "source": []
  }
 ],
 "metadata": {
  "language_info": {
   "name": "python"
  }
 },
 "nbformat": 4,
 "nbformat_minor": 2
}
